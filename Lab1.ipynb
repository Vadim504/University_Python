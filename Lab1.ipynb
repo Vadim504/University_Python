{
  "nbformat": 4,
  "nbformat_minor": 0,
  "metadata": {
    "colab": {
      "provenance": [],
      "authorship_tag": "ABX9TyMktght1WuH14XsBzkm6tQL",
      "include_colab_link": true
    },
    "kernelspec": {
      "name": "python3",
      "display_name": "Python 3"
    },
    "language_info": {
      "name": "python"
    }
  },
  "cells": [
    {
      "cell_type": "markdown",
      "metadata": {
        "id": "view-in-github",
        "colab_type": "text"
      },
      "source": [
        "<a href=\"https://colab.research.google.com/github/Vadim504/University_Python/blob/master/Lab1.ipynb\" target=\"_parent\"><img src=\"https://colab.research.google.com/assets/colab-badge.svg\" alt=\"Open In Colab\"/></a>"
      ]
    },
    {
      "cell_type": "markdown",
      "source": [
        "![1.jpg](data:image/jpeg;base64,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)"
      ],
      "metadata": {
        "id": "4HkeHSBKHT_R"
      }
    },
    {
      "cell_type": "code",
      "source": [
        "x=int(input())\n",
        "y=(3*x-2*x**2)/(4*x**2-12*x+9)\n",
        "print(y)"
      ],
      "metadata": {
        "colab": {
          "base_uri": "https://localhost:8080/"
        },
        "id": "Oe9Q4rahHUng",
        "outputId": "8e107fbd-ddf3-414f-b772-dc7878a1095e"
      },
      "execution_count": null,
      "outputs": [
        {
          "output_type": "stream",
          "name": "stdout",
          "text": [
            "3\n",
            "-1.0\n"
          ]
        }
      ]
    },
    {
      "cell_type": "markdown",
      "source": [
        "![2.jpg](data:image/jpeg;base64,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)"
      ],
      "metadata": {
        "id": "TcN2ifqYIC0y"
      }
    },
    {
      "cell_type": "code",
      "source": [
        "import math\n",
        "x=int(input())\n",
        "y=(2-x)/(3*x+5)\n",
        "print(math.log(y))"
      ],
      "metadata": {
        "id": "h6b1rFJbIMlp"
      },
      "execution_count": null,
      "outputs": []
    },
    {
      "cell_type": "markdown",
      "source": [
        "Вариант 8.1.3.У американского писателя-фантаста Рэя Бредбери есть роман \"450 градусов по Фаренгейту\". Какой температуре по шкале Цельсия соответствует указанное в названии значение?"
      ],
      "metadata": {
        "id": "7--6mWATzzj0"
      }
    },
    {
      "cell_type": "code",
      "source": [
        "x = int(input())\n",
        "print((x-32)*5/9)"
      ],
      "metadata": {
        "id": "2Yscd5jjzy9u"
      },
      "execution_count": null,
      "outputs": []
    },
    {
      "cell_type": "markdown",
      "source": [
        "Вариант 8.1.4.Дано трехзначное число. Найти сумму и произведение его цифр."
      ],
      "metadata": {
        "id": "8McxdXEizxfA"
      }
    },
    {
      "cell_type": "code",
      "source": [
        "x =int(input())\n",
        "print(x//100+x%100//10+x%100%10)\n",
        "print(x//100*x%100//10*x%100%10)"
      ],
      "metadata": {
        "id": "qhWs01Av0A8F"
      },
      "execution_count": null,
      "outputs": []
    },
    {
      "cell_type": "markdown",
      "source": [
        "1.Вариант 8.1.5.Даны целые числа a, b, c. Проверить истинность высказывания: «Существует треугольник со сторонами a, b, c»."
      ],
      "metadata": {
        "id": "FEhIpAY30NL2"
      }
    },
    {
      "cell_type": "code",
      "source": [
        "x,y,z=int(input()),int(input()),int(input())\n",
        "print(x+y>z and y+z>x and x+z>y)"
      ],
      "metadata": {
        "id": "rSYvcOOj0QiP"
      },
      "execution_count": null,
      "outputs": []
    },
    {
      "cell_type": "markdown",
      "source": [
        "2.Вариант 8.1.Для данного вещественного x найти значение следующей функции f,\n",
        "принимающей вещественные значения:\n",
        "![3.jpg](data:image/jpeg;base64,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)"
      ],
      "metadata": {
        "id": "r_C58TY50TD9"
      }
    },
    {
      "cell_type": "code",
      "source": [
        "x=int(input())\n",
        "if(x<=2):\n",
        "    y=x**2+4*x+5\n",
        "else:\n",
        "    y=1/(x**2+4*x+5)\n",
        "print(y)"
      ],
      "metadata": {
        "id": "qwgQ6RZT0X9X"
      },
      "execution_count": null,
      "outputs": []
    },
    {
      "cell_type": "markdown",
      "source": [
        "2.Вариант 8.2.Написать программу определения принадлежности точки с координатами (x,y) части плоскости, лежащей между прямыми x=m, x=n, (m<n)."
      ],
      "metadata": {
        "id": "D_qxaEU70aaF"
      }
    },
    {
      "cell_type": "code",
      "source": [
        "m,n,x,y=int(input()),int(input()),int(input()),int(input())\n",
        "if m<x<n:\n",
        "    print(\"Принадлежит\")\n",
        "else:\n",
        "    print(\"Непринадлежит\")"
      ],
      "metadata": {
        "id": "Nntnpzxc0dH1"
      },
      "execution_count": null,
      "outputs": []
    },
    {
      "cell_type": "markdown",
      "source": [
        "2.Вариант 8.3.Написать программу решения уравнения ![image.png](attachment:image.png) для произвольных a, b."
      ],
      "metadata": {
        "id": "42A-4Wge0fxP"
      }
    },
    {
      "cell_type": "code",
      "source": [
        "a,b =int(input()),int(input())\n",
        "if a==0 or b==0 or a*b>0:\n",
        "    print(0)\n",
        "elif a*b<0:\n",
        "    print(0,(b/a)**(1/2))\n"
      ],
      "metadata": {
        "id": "1i2qpt-10iMQ"
      },
      "execution_count": null,
      "outputs": []
    },
    {
      "cell_type": "markdown",
      "source": [
        "2.Вариант 8.4.Даны вещественные числа a, b, c (𝑎≠ 0). Выяснить, имеет ли уравнение 𝑎𝑥**2+ 𝑏𝑥+ 𝑐= 0 вещественные корни."
      ],
      "metadata": {
        "id": "J-FxLVfM0jxl"
      }
    },
    {
      "cell_type": "code",
      "source": [
        "x,y,z=int(input()),int(input()),int(input())\n",
        "D=y**2-4*x*z\n",
        "if D==0 and x%2==0:\n",
        "    print('Вещественные корни')\n",
        "elif D>0 and D**(1/2)%1==0:\n",
        "    print('Вещественные корни')\n",
        "elif D>=0:\n",
        "    print('НЕ Вещественные корни')\n",
        "else:\n",
        "    print('Корней нет')"
      ],
      "metadata": {
        "id": "IX7n0pMG0obm"
      },
      "execution_count": null,
      "outputs": []
    },
    {
      "cell_type": "markdown",
      "source": [
        "2.Вариант 8.5.Дата некоторого дня характеризуется тремя натуральными числами: g (год), m (порядковый номер месяца) и n (число). По заданным g, n и m определить:\n",
        "а) дату предыдущего дня;\n",
        "б) дату следующего дня.\n",
        "\n",
        "В обеих задачах рассмотреть два случая:\n",
        "1) заданный год не является високосным;\n",
        "2) заданный год может быть високосным"
      ],
      "metadata": {
        "id": "4Ts1dcpm0qUH"
      }
    },
    {
      "cell_type": "code",
      "source": [
        "def is_leap_year(year):\n",
        "    return year % 400 == 0 or (year % 100 != 0 and year % 4 == 0)\n",
        "\n",
        "def get_previous_day(g, m, n):\n",
        "    if n > 1:\n",
        "        return g, m, n - 1\n",
        "\n",
        "    if m == 1:\n",
        "        return g - 1, 12, 31\n",
        "\n",
        "    if m == 3:\n",
        "        if is_leap_year(g):\n",
        "            return g, 2, 29\n",
        "        else:\n",
        "            return g, 2, 28\n",
        "\n",
        "    if m in [5, 7, 10, 12]:\n",
        "        return g, m - 1, 30\n",
        "    else:\n",
        "        return g, m - 1, 31\n",
        "\n",
        "def get_next_day(g, m, n):\n",
        "    if m in [1, 3, 5, 7, 8, 10, 12]:\n",
        "        if n < 31:\n",
        "            return g, m, n + 1\n",
        "        else:\n",
        "            if m == 12:\n",
        "                return g + 1, 1, 1\n",
        "            else:\n",
        "                return g, m + 1, 1\n",
        "    elif m in [4, 6, 9, 11]:\n",
        "        if n < 30:\n",
        "            return g, m, n + 1\n",
        "        else:\n",
        "            return g, m + 1, 1\n",
        "    elif m == 2:\n",
        "        if is_leap_year(g):\n",
        "            if n < 29:\n",
        "                return g, 2, n + 1\n",
        "            else:\n",
        "                return g, 3, 1\n",
        "        else:\n",
        "            if n < 28:\n",
        "                return g, 2, n + 1\n",
        "            else:\n",
        "                return g, 3, 1\n",
        "\n",
        "# Ввод данных\n",
        "g = int(input())\n",
        "m = int(input())\n",
        "n = int(input())\n",
        "\n",
        "# Определение предыдущего и следующего дня\n",
        "prev_day = get_previous_day(g, m, n)\n",
        "next_day = get_next_day(g, m, n)\n",
        "\n",
        "# Вывод результатов\n",
        "print(f\"{prev_day[0]}-{prev_day[1]}-{prev_day[2]}\")\n",
        "print(f\"{next_day[0]}-{next_day[1]}-{next_day[2]}\")"
      ],
      "metadata": {
        "id": "zjyNJj-I0spo",
        "colab": {
          "base_uri": "https://localhost:8080/"
        },
        "outputId": "8e0517af-fc37-4e27-804a-33379fe59f5c"
      },
      "execution_count": null,
      "outputs": [
        {
          "output_type": "stream",
          "name": "stdout",
          "text": [
            "1900\n",
            "2\n",
            "31\n",
            "Предыдущий день: 1900-2-30\n",
            "Следующий день: 1900-3-1\n"
          ]
        }
      ]
    },
    {
      "cell_type": "markdown",
      "source": [
        "3.8.1.Составить программу для проверки утверждения: «Результатами вычислений по формуле ![7.jpg](data:image/jpeg;base64,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) при 0≤х≤15 являются простые числа». Все результаты вывести на экран."
      ],
      "metadata": {
        "id": "moz1mcK40yC1"
      }
    },
    {
      "cell_type": "code",
      "source": [
        "x=int(input())\n",
        "y = x*x+x+17\n",
        "i=2\n",
        "while i*i<=y and y%i!=0:\n",
        "    i=i+1\n",
        "if x>=0 and x<=15 and i*i>x:\n",
        "    print(\"Простое число\")\n",
        "else:\n",
        "    print(\"Не простое число\")"
      ],
      "metadata": {
        "id": "JrKPaqGPvOlI"
      },
      "execution_count": null,
      "outputs": []
    },
    {
      "cell_type": "markdown",
      "source": [
        "3.8.2.Даны: действительное число a, натуральное число n. Вычислить:![5.jpg](data:image/jpeg;base64,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)"
      ],
      "metadata": {
        "id": "XJKM73_zvQTw"
      }
    },
    {
      "cell_type": "code",
      "source": [
        "a,x=int(input()),int(input())\n",
        "P=a*(a-x)*(a-2*x)*(a-x*x)\n",
        "print(P)"
      ],
      "metadata": {
        "id": "DlV7u3NK00a1"
      },
      "execution_count": null,
      "outputs": []
    },
    {
      "cell_type": "markdown",
      "source": [
        "3.8.3.Найти сумму ряда с точностью ε=0,001, общий член которого:![4.jpg](data:image/jpeg;base64,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)"
      ],
      "metadata": {
        "id": "_c5D3i2xvVnI"
      }
    },
    {
      "cell_type": "code",
      "source": [
        "e=0.001\n",
        "n=1\n",
        "s1=0\n",
        "s2=1\n",
        "while s2-s1>e:\n",
        "    a=(2**n*n)/(n**n)\n",
        "    s1=s2\n",
        "    s2=s2+a\n",
        "    n=n*(n+1)\n",
        "print(s2)\n"
      ],
      "metadata": {
        "id": "3ksFZFctva6A"
      },
      "execution_count": null,
      "outputs": []
    },
    {
      "cell_type": "markdown",
      "source": [
        "3.8.4.Дано целое число N и набор из N целых чисел. Вывести в том же порядке номера всех нечетных чисел из данного набора и количество K таких чисел."
      ],
      "metadata": {
        "id": "eFSMgTSovcgR"
      }
    },
    {
      "cell_type": "code",
      "source": [
        "x=int(input())\n",
        "while x>0:\n",
        "    data=int(input())\n",
        "    if data%2==1:\n",
        "        print(data)\n",
        "    x=x-1\n",
        "\n"
      ],
      "metadata": {
        "id": "sNPXdlvkvfOI",
        "colab": {
          "base_uri": "https://localhost:8080/"
        },
        "outputId": "80ad08e7-1e57-4d86-cfe6-f60c312500d9"
      },
      "execution_count": null,
      "outputs": [
        {
          "name": "stdout",
          "output_type": "stream",
          "text": [
            "4\n",
            "1\n",
            "1\n",
            "2\n",
            "3\n",
            "3\n",
            "4\n"
          ]
        }
      ]
    },
    {
      "cell_type": "markdown",
      "source": [
        "Написать процедуру (функцию) вычисления суммы ряда для заданного числа n. Дробь p/q должна быть несократимой (р, q — натуральные).![6.jpg](data:image/jpeg;base64,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)"
      ],
      "metadata": {
        "id": "Nr4bDG6o6gev"
      }
    },
    {
      "cell_type": "code",
      "source": [
        "import fractions\n",
        "def function(sum,n):\n",
        "  sum = 1\n",
        "  for i in range(1,n+1):\n",
        "    p=(-1)*(-1)**(i+1)\n",
        "    q=i\n",
        "    term = fractions.Fraction(p,q)\n",
        "    sum += term\n",
        "  return sum\n",
        "\n",
        "n = int(input())\n",
        "sum = 0\n",
        "print( function(sum,n))"
      ],
      "metadata": {
        "colab": {
          "base_uri": "https://localhost:8080/"
        },
        "id": "4ABXQlCF9jRo",
        "outputId": "63db13f1-33c4-4422-c659-d60e02d2bf04"
      },
      "execution_count": null,
      "outputs": [
        {
          "output_type": "stream",
          "name": "stdout",
          "text": [
            "3\n",
            "1/6\n"
          ]
        }
      ]
    },
    {
      "cell_type": "markdown",
      "source": [
        "Вариант 8.4.2.Составить функцию, которая в массив- A[N] находит второе по величине число (т.e. вывести на печать число, которое меньше максимального элемента массива, но больше всех других элементов)."
      ],
      "metadata": {
        "id": "TM3irjaMvhWw"
      }
    },
    {
      "cell_type": "code",
      "source": [
        "def find_max(arr,max,second_max,i):\n",
        "  if i>=len(arr):\n",
        "    return second_max\n",
        "  if arr[i]>max:\n",
        "    second_max=max\n",
        "    max=arr[i]\n",
        "\n",
        "    return find_max(arr,max,second_max,i+1)\n",
        "\n",
        "i = 1\n",
        "arr = [1,2,3,4]\n",
        "max=arr[0]\n",
        "second_max=0;\n",
        "find_max(arr,max,second_max,i)\n"
      ],
      "metadata": {
        "colab": {
          "base_uri": "https://localhost:8080/"
        },
        "id": "TeboanNG5-PY",
        "outputId": "d55b3def-1e17-4f89-dbbd-2bc586f31ddc"
      },
      "execution_count": null,
      "outputs": [
        {
          "output_type": "execute_result",
          "data": {
            "text/plain": [
              "3"
            ]
          },
          "metadata": {},
          "execution_count": 22
        }
      ]
    },
    {
      "cell_type": "markdown",
      "source": [
        "Вариант 8.4.3.Составить программу нахождения числа, которое образуется из данного натурального числа при записи его цифр в обратном порядке, используя рекурсивную подпрограмму. Например, для числа 1234 получаем ответ 4321."
      ],
      "metadata": {
        "id": "LzyrNsRpv2P5"
      }
    },
    {
      "cell_type": "code",
      "source": [
        "def recursive(x,i):\n",
        "  if i<0:\n",
        "    return \"\"\n",
        "  return x[i]+recursive(x,i-1)\n",
        "\n",
        "x=input()\n",
        "i=len(x)-1\n",
        "print(recursive(x,i))\n"
      ],
      "metadata": {
        "colab": {
          "base_uri": "https://localhost:8080/"
        },
        "id": "_ZGZq7dNwYUg",
        "outputId": "e8dce104-0bde-4cae-9597-214adcd949f9"
      },
      "execution_count": null,
      "outputs": [
        {
          "output_type": "stream",
          "name": "stdout",
          "text": [
            "1234\n",
            "4321\n"
          ]
        }
      ]
    }
  ]
}