{
  "nbformat": 4,
  "nbformat_minor": 0,
  "metadata": {
    "colab": {
      "provenance": [],
      "authorship_tag": "ABX9TyMa+PXjn/p1RCnz8gXlDrlz",
      "include_colab_link": true
    },
    "kernelspec": {
      "name": "python3",
      "display_name": "Python 3"
    },
    "language_info": {
      "name": "python"
    }
  },
  "cells": [
    {
      "cell_type": "markdown",
      "metadata": {
        "id": "view-in-github",
        "colab_type": "text"
      },
      "source": [
        "<a href=\"https://colab.research.google.com/github/Vadim504/University_Python/blob/master/Untitled2.ipynb\" target=\"_parent\"><img src=\"https://colab.research.google.com/assets/colab-badge.svg\" alt=\"Open In Colab\"/></a>"
      ]
    },
    {
      "cell_type": "markdown",
      "source": [
        "Создайте базовый класс Vehicle с полями марка и модель. Реализуйте подклассы Car и Bicycle, которые добавляют свои специфические методы, например, метод honk() для автомобиля."
      ],
      "metadata": {
        "id": "HjLoGxUYPaTL"
      }
    },
    {
      "cell_type": "code",
      "execution_count": null,
      "metadata": {
        "id": "NCzPW6FUPYj1"
      },
      "outputs": [],
      "source": [
        "class Vehicle:\n",
        "    def __init__(self,brand,model):\n",
        "        self.model = model\n",
        "        self.brand = brand\n",
        "    def getInfo(self):\n",
        "        print(f\"Model: {self.model},Brand: {self.brand}\")\n",
        "\n",
        "class Car(Vehicle):\n",
        "    def __init__(self,brand,model,run):\n",
        "        super().__init__(brand,model)\n",
        "        self.run = run\n",
        "    def get_milage(self):\n",
        "        return self.run\n",
        "\n",
        "    def honk(self):\n",
        "        print(\"Bip Bip\")\n",
        "\n",
        "    def getInfo(self):\n",
        "        print(f\"Brand:{self.brand}, Model:{self.model}, Run:{self.run}\")\n",
        "\n",
        "class Bicycle(Vehicle):\n",
        "    def __init__(self,brand,model,wheels):\n",
        "        super().__init__(brand,model)\n",
        "        self.wheels = wheels\n",
        "\n",
        "    def lock(self):\n",
        "        print(\"Set lock\")\n",
        "\n",
        "    def getInfo(self):\n",
        "        print(f\"Brand:{self.brand}, Model:{self.model}, Wheels:{self.wheels}\")\n",
        "def main():\n",
        "    bycycle1 = Bicycle(\"Larsen\",\"01\",3)\n",
        "    car1 = Car(\"BMW\",\"M3\",1200)\n",
        "    car2 = Car(\"Porshe\",\"911\",13)\n",
        "    car3 = Car(\"Mercedes\",\"Maybach\",50)\n",
        "    bycycle1.getInfo()\n",
        "    car1.getInfo()\n",
        "    car2.getInfo()\n",
        "    car3.getInfo()\n",
        "\n",
        "main()"
      ]
    },
    {
      "cell_type": "markdown",
      "source": [
        "Определите класс Car, который наследуется от класса Vehicle. Класс Car должен добавлять методы для работы с автомобильными функциями."
      ],
      "metadata": {
        "id": "Oma3P-6vP0yx"
      }
    },
    {
      "cell_type": "code",
      "source": [
        "def proverka(type):\n",
        "    match(type):\n",
        "        case 'Sport car':\n",
        "            return 1\n",
        "        case 'Truck':\n",
        "            return 1\n",
        "        case 'Micro compact car':\n",
        "            return 1\n",
        "        case 'Hatchback':\n",
        "            return 1\n",
        "        case 'Minivan':\n",
        "            return 1\n",
        "        case 'Sedan':\n",
        "            return 1\n",
        "        case 'cabriolet':\n",
        "            return 1\n",
        "    return 0\n",
        "\n",
        "class Vehicle:\n",
        "    def __init__(self,brand,model):\n",
        "        self.brand = brand\n",
        "        self.model = model\n",
        "\n",
        "class Car(Vehicle):\n",
        "    def __init__(self,brand,model,type,speed,run):\n",
        "        super().__init__(brand,model)\n",
        "        self.speed = speed\n",
        "        self.run = run\n",
        "        if proverka(type)==1:\n",
        "            self.type = type\n",
        "        else: self.type = 'Unknown type'\n",
        "\n",
        "    def Honk(self):\n",
        "        print(\"Bip Bip\")\n",
        "\n",
        "    def Start(self):\n",
        "        print(\"Br Br\")\n",
        "\n",
        "    def Speed(self):\n",
        "        print(\"Niiiiiu\")\n",
        "\n",
        "    def getInfo(self):\n",
        "        print(f\"Brand:{self.brand}, Model:{self.model}, Type:{self.type}, Speed:{self.speed}, Run:{self.run}\")\n",
        "\n",
        "def main():\n",
        "    car1 = Car(\"BMW\",\"M3\",\"Sport car\",1200,12)\n",
        "    car1.Speed()\n",
        "    car1.Honk()\n",
        "    car1.Start()\n",
        "    car1.getInfo()\n",
        "\n",
        "main()"
      ],
      "metadata": {
        "id": "3gufast_P5R5"
      },
      "execution_count": null,
      "outputs": []
    },
    {
      "cell_type": "markdown",
      "source": [
        "Создать класс Car, у которого поля brand, model и year будут приватными. Реализовать методы для доступа к этим полям и изменения модели с проверкой на валидность введенных данных."
      ],
      "metadata": {
        "id": "zzL7EIMFQHr5"
      }
    },
    {
      "cell_type": "code",
      "source": [
        "def proverka(type):\n",
        "    valid_types = {'Sport car', 'Truck', 'Micro compact car', 'Hatchback', 'Minivan', 'Sedan', 'Cabriolet'}\n",
        "    return 1 if type in valid_types else 0\n",
        "\n",
        "class Car:\n",
        "    def __init__(self,brand,model,year):\n",
        "        self.__brand = brand\n",
        "        self.__model = model\n",
        "        self.__year = year\n",
        "\n",
        "    def getBrand(self):\n",
        "        return self.__brand\n",
        "\n",
        "    def getModel(self):\n",
        "        return self.__model\n",
        "\n",
        "    def getYear(self):\n",
        "        return self.__year\n",
        "\n",
        "    def setModel(self,model):\n",
        "        if proverka(model)==1:\n",
        "            self.__model = model\n",
        "            return True\n",
        "        print(\"Unknown model\")\n",
        "        return False\n",
        "\n",
        "    def getInfo(self):\n",
        "        return f\"Brand:{self.getBrand()}, Model:{self.getModel()}, Year:{self.getYear()}\"\n",
        "\n",
        "def main():\n",
        "    car1 = Car(\"BMW\",\"M3\",2025)\n",
        "    car1.getYear()\n",
        "    car1.getBrand()\n",
        "    car1.setModel(\"M5\")\n",
        "    print(car1.getInfo())\n",
        "\n",
        "main()\n"
      ],
      "metadata": {
        "id": "Ti2PTpuzQRLS"
      },
      "execution_count": null,
      "outputs": []
    },
    {
      "cell_type": "markdown",
      "source": [
        "Здание и этаж. Создайте класс `Здание`, в котором может быть несколько этажей. Реализуйте метод для добавления нового этажа с указанием его номера. Класс `Этаж` должен содержать поле `номер этажа` и метод для описания этажа. Этаж не может существовать отдельно от здания."
      ],
      "metadata": {
        "id": "a67dvAkjQUSB"
      }
    },
    {
      "cell_type": "code",
      "source": [
        "class Floor:\n",
        "    def __init__(self, number):\n",
        "        self.number = number\n",
        "\n",
        "    def getInfo(self):\n",
        "        return f\"Floor number {self.number}\"\n",
        "\n",
        "\n",
        "class Build:\n",
        "    def __init__(self, name):\n",
        "        self.name = name\n",
        "        self.floors = []  # Теперь это список, а не словарь\n",
        "\n",
        "    def add_floor(self, floor_number):\n",
        "        # Проверяем, есть ли уже этаж с таким номером\n",
        "        for floor in self.floors:\n",
        "            if floor.number == floor_number:\n",
        "                print(f\"Этаж {floor_number} уже есть\")\n",
        "                return False\n",
        "        # Добавляем новый этаж\n",
        "        self.floors.append(Floor(floor_number))\n",
        "        return True\n",
        "\n",
        "    def getInfo(self):\n",
        "        print(f\"Здание: {self.name}\")\n",
        "        for floor in self.floors:\n",
        "            print(floor.getInfo())\n",
        "\n",
        "\n",
        "def main():\n",
        "    build1 = Build(\"TRUMP TOWER\")\n",
        "    build1.add_floor(1)\n",
        "    build1.add_floor(2)\n",
        "    build1.add_floor(2)  # Попытка добавить повторный этаж\n",
        "    build1.getInfo()\n",
        "\n",
        "\n",
        "main()"
      ],
      "metadata": {
        "id": "8PpQOnr2Qaf5"
      },
      "execution_count": null,
      "outputs": []
    },
    {
      "cell_type": "markdown",
      "source": [
        "Отель и клиент. Создайте класс `Отель`, содержащий список клиентов, которые могут бронировать комнаты. У класса `Клиент` есть поля `имя` и `контактные данные`. Клиенты могут существовать независимо от отеля."
      ],
      "metadata": {
        "id": "p6gx0gxvQeyp"
      }
    },
    {
      "cell_type": "code",
      "source": [
        "class Client:\n",
        "    def __init__(self,name,contact_number):\n",
        "        self.name = name\n",
        "        self.number = contact_number\n",
        "\n",
        "    def getInfo(self):\n",
        "        return f\"Name: {self.name}, contact_number: {self.number} \"\n",
        "\n",
        "class Hotel:\n",
        "    def __init__(self):\n",
        "        self.clients = []\n",
        "\n",
        "    def add_client(self,name,contact_number):\n",
        "        self.clients.append(Client(name,contact_number))\n",
        "\n",
        "    def getInfo(self):\n",
        "        for client in self.clients:\n",
        "            print(client.getInfo())\n",
        "\n",
        "\n",
        "\n",
        "def main():\n",
        "    hotel1=Hotel()\n",
        "    hotel1.add_client(\"Alice\",79270835006)\n",
        "    hotel1.add_client(\"Bob\",79379035007)\n",
        "    hotel1.getInfo()\n",
        "\n",
        "if __name__ == \"__main__\":\n",
        "    main()\n"
      ],
      "metadata": {
        "id": "MFl1z2agTAWz"
      },
      "execution_count": null,
      "outputs": []
    },
    {
      "cell_type": "markdown",
      "source": [
        "Создать абстрактный класс Plan с абстрактным методом calculateCost(). Реализовать подклассы BasicPlan и PremiumPlan, которые реализуют метод calculateCost()."
      ],
      "metadata": {
        "id": "M-T7eDPdQsUx"
      }
    },
    {
      "cell_type": "code",
      "source": [
        "import abc\n",
        "class calculateCost(abc.ABC):\n",
        "    @abc.abstractmethod\n",
        "    def Cost(self):\n",
        "        pass\n",
        "\n",
        "    @abc.abstractmethod\n",
        "    def Plan(self):\n",
        "        pass\n",
        "\n",
        "    @abc.abstractmethod\n",
        "    def getInfo(self):\n",
        "        pass\n",
        "\n",
        "class BasicPlan(calculateCost):\n",
        "    def Cost(self):\n",
        "        return f\"Cost {1200}\"\n",
        "\n",
        "    def Plan(self):\n",
        "        return f\"You choose basic plan\"\n",
        "\n",
        "    def getInfo(self):\n",
        "        return f\"{self.Plan()}.{self.Cost()}\"\n",
        "\n",
        "class PremiumPlan(calculateCost):\n",
        "    def Cost(self):\n",
        "        return f\"Cost {5000}\"\n",
        "    def Plan(self):\n",
        "        return f\"You choose premium plan\"\n",
        "    def getInfo(self):\n",
        "        return f\"{self.Plan()}.{self.Cost()}\"\n",
        "\n",
        "def main():\n",
        "    ob1=PremiumPlan()\n",
        "    ob2=BasicPlan()\n",
        "\n",
        "    print(ob1.getInfo())\n",
        "    print(ob2.getInfo())\n",
        "\n",
        "if __name__ == \"__main__\":\n",
        "     main()\n"
      ],
      "metadata": {
        "id": "eyRJst-NQuW6"
      },
      "execution_count": null,
      "outputs": []
    },
    {
      "cell_type": "markdown",
      "source": [
        "Создать интерфейс IVehicle, который содержит методы start() и stop(). Создать абстрактный класс Vehicle, и конкретные реализации Car и Bicycle, которые реализуют интерфейс IVehicle."
      ],
      "metadata": {
        "id": "uZle2q_QQ0Cy"
      }
    },
    {
      "cell_type": "code",
      "source": [
        "from abc import ABC, abstractmethod\n",
        "\n",
        "class IVehicle(ABC):\n",
        "    @abstractmethod\n",
        "    def start(self):\n",
        "        pass\n",
        "\n",
        "    @abstractmethod\n",
        "    def stop(self):\n",
        "        pass\n",
        "\n",
        "class Vehicle(IVehicle, ABC):\n",
        "    def __init__(self, model):\n",
        "        self.model = model\n",
        "        self.is_running = False\n",
        "\n",
        "    @abstractmethod\n",
        "    def get_vehicle_type(self):\n",
        "        pass\n",
        "\n",
        "class Car(Vehicle):\n",
        "    def start(self):\n",
        "        if not self.is_running:\n",
        "            print(f\"{self.model} car is starting.\")\n",
        "            self.is_running = True\n",
        "        else:\n",
        "            print(f\"{self.model} car is already running.\")\n",
        "\n",
        "    def stop(self):\n",
        "        if self.is_running:\n",
        "            print(f\"{self.model} car is stopping.\")\n",
        "            self.is_running = False\n",
        "        else:\n",
        "            print(f\"{self.model} car is already stopped.\")\n",
        "\n",
        "    def get_vehicle_type(self):\n",
        "        return \"Car\"\n",
        "\n",
        "class Bicycle(Vehicle):\n",
        "    def start(self):\n",
        "        if not self.is_running:\n",
        "            print(f\"{self.model} bicycle is starting to pedal...\")\n",
        "            self.is_running = True\n",
        "        else:\n",
        "            print(f\"{self.model} bicycle is already moving\")\n",
        "\n",
        "    def stop(self):\n",
        "        if self.is_running:\n",
        "            print(f\"{self.model} bicycle is stopping...\")\n",
        "            self.is_running = False\n",
        "        else:\n",
        "            print(f\"{self.model} bicycle is already stopped\")\n",
        "\n",
        "    def get_vehicle_type(self):\n",
        "        return \"Bicycle\"\n",
        "\n",
        "def main():\n",
        "    vehicles = [Car('Toyota'),Bicycle(\"Larsen\")]\n",
        "\n",
        "    for vehicle in vehicles:\n",
        "        print(f\"\\nVehicle type: {vehicle.get_vehicle_type()}\")\n",
        "        vehicle.start()\n",
        "        vehicle.start()  # Попытка запустить уже работающее транспортное средство\n",
        "        vehicle.stop()\n",
        "        vehicle.stop()  # Попытка остановить уже остановленное транспортное средство\n",
        "\n",
        "\n",
        "if __name__ == \"__main__\":\n",
        "    main()"
      ],
      "metadata": {
        "id": "tpWQvMkKQ68a"
      },
      "execution_count": null,
      "outputs": []
    },
    {
      "cell_type": "markdown",
      "source": [
        "Определите метод drive() в классе Car, который управляет движением автомобиля. Создайте подклассы ElectricCar и GasolineCar, которые будут переопределять этот метод для управления различными типами автомобилей."
      ],
      "metadata": {
        "id": "xypFXzB6Q_oR"
      }
    },
    {
      "cell_type": "code",
      "source": [
        "from abc import ABC, abstractmethod\n",
        "\n",
        "class Car:\n",
        "    @abstractmethod\n",
        "    def drive(self):\n",
        "        pass\n",
        "\n",
        "    @abstractmethod\n",
        "    def getInfo(self):\n",
        "        pass\n",
        "\n",
        "class ElectricCar(Car):\n",
        "    def __init__(self,brand,model,speed):\n",
        "        self.brand=brand\n",
        "        self.model=model\n",
        "        self.speed=speed\n",
        "\n",
        "    def drive(self):\n",
        "        return f\".....\"\n",
        "    def getInfo(self):\n",
        "        return f\"Brand:{self.brand}, Model:{self.model}, Speed:{self.speed}\"\n",
        "\n",
        "class GasolineCar(Car):\n",
        "    def __init__(self, brand, model, speed):\n",
        "        self.brand = brand\n",
        "        self.model = model\n",
        "        self.speed = speed\n",
        "\n",
        "    def drive(self):\n",
        "        return f\"Br..br..br\"\n",
        "\n",
        "    def getInfo(self):\n",
        "        return f\"Brand:{self.brand}, Model:{self.model}, Speed:{self.speed}\"\n",
        "\n",
        "def main():\n",
        "    car1=GasolineCar(\"BMW\",\"M5\",200)\n",
        "    car2=ElectricCar(\"Tesla\",\"Y\",210)\n",
        "    print(car1.drive())\n",
        "    print(car2.drive())\n",
        "    print(car1.getInfo())\n",
        "    print(car2.getInfo())\n",
        "\n",
        "if __name__ == \"__main__\":\n",
        "    main()"
      ],
      "metadata": {
        "id": "vbRzOpPeRJiB"
      },
      "execution_count": null,
      "outputs": []
    }
  ]
}
